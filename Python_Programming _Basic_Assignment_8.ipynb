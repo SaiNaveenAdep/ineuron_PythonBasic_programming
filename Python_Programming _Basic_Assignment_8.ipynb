{
 "cells": [
  {
   "cell_type": "markdown",
   "id": "c30d88bd",
   "metadata": {},
   "source": [
    "1. Write a Python Program to Add Two Matrices?"
   ]
  },
  {
   "cell_type": "code",
   "execution_count": 6,
   "id": "3306c71c",
   "metadata": {},
   "outputs": [
    {
     "name": "stdout",
     "output_type": "stream",
     "text": [
      "[[10 10  9  9  9]\n",
      " [ 9 57  5 25 10]\n",
      " [14 11  7 34  9]]\n",
      "The Sum of two matrix \n",
      "\n",
      "[[ 1  2  3  4  5]\n",
      " [ 4 53  2  4  7]\n",
      " [ 5  4  3  2  8]]  and \n",
      "\n",
      "[[ 9  8  6  5  4]\n",
      " [ 5  4  3 21  3]\n",
      " [ 9  7  4 32  1]]  is \n",
      "\n",
      "[[10 10  9  9  9]\n",
      " [ 9 57  5 25 10]\n",
      " [14 11  7 34  9]] \n"
     ]
    }
   ],
   "source": [
    "import numpy as np\n",
    "\n",
    "matrix1 = np.array([[1,2,3,4,5],\n",
    "                   [4,53,2,4,7],\n",
    "                   [5,4,3,2,8]])\n",
    "matrix2 = np.array([[9,8,6,5,4],\n",
    "                  [5,4,3,21,3],\n",
    "                  [9,7,4,32,1]])\n",
    "Adding_matrix = np.add(matrix1, matrix2)\n",
    "print(\"The Sum of two matrix    \\n\\n{}  and \\n\\n{}  is \\n\\n{} \".format(matrix1,matrix2,Adding_matrix))"
   ]
  },
  {
   "cell_type": "markdown",
   "id": "009d1ab3",
   "metadata": {},
   "source": [
    "2. Write a Python Program to Multiply Two Matrices?"
   ]
  },
  {
   "cell_type": "code",
   "execution_count": 7,
   "id": "0afd8c16",
   "metadata": {},
   "outputs": [
    {
     "name": "stdout",
     "output_type": "stream",
     "text": [
      "The product of two matrix \n",
      "\n",
      "[[13 42 64]\n",
      " [ 3  7  4]\n",
      " [ 9  1  2]]  and \n",
      "\n",
      "[[13 42 64]\n",
      " [ 3  7  4]\n",
      " [ 9  1  2]]  is \n",
      "\n",
      "[[2848 3442  491]\n",
      " [ 423  517   81]\n",
      " [  89  121   73]] \n"
     ]
    }
   ],
   "source": [
    "import numpy as np\n",
    "\n",
    "matrix1 = np.array([[13,42,64],\n",
    "        [3,7,4],\n",
    "        [9,1,2]])\n",
    "matrix2 = np.array([[2,4,7],\n",
    "        [55,67,8],\n",
    "        [8,9,1]])\n",
    "\n",
    "mulMat = np.dot(matrix1,matrix2)\n",
    "print(\"The product of two matrix \\n\\n{}  and \\n\\n{}  is \\n\\n{} \".format(matrix1,matrix1,mulMat))"
   ]
  },
  {
   "cell_type": "markdown",
   "id": "58a3eb0c",
   "metadata": {},
   "source": [
    "3. Write a Python Program to Transpose a Matrix?"
   ]
  },
  {
   "cell_type": "code",
   "execution_count": 2,
   "id": "cd126796",
   "metadata": {},
   "outputs": [
    {
     "name": "stdout",
     "output_type": "stream",
     "text": [
      "Enter N for N x N matrix: 3\n",
      "Enter the element :\n",
      "1\n",
      "2\n",
      "3\n",
      "4\n",
      "5\n",
      "6\n",
      "7\n",
      "8\n",
      "9\n",
      "Display Array M1 In Matrix Form\n",
      "1 2 3 \n",
      "4 5 6 \n",
      "7 8 9 \n",
      "Transposed Matrix\n",
      "[1, 4, 7]\n",
      "[2, 5, 8]\n",
      "[3, 6, 9]\n"
     ]
    }
   ],
   "source": [
    "def Matrix(n,v=0):\n",
    "    M=[]             \n",
    "    for i in range(n):\n",
    "        \n",
    "        row =[]\n",
    "        for j in range(n):\n",
    "            row.append(v)\n",
    "        M.append(row)\n",
    "    return(M)\n",
    "\n",
    "def crMatrix(n):\n",
    "    \n",
    "    M=[]             \n",
    "    print(\"Enter the element :\")\n",
    "    for i in range(n):\n",
    "        #stor row\n",
    "        row =[]\n",
    "        for j in range(n):\n",
    "            row.append(int(input()))\n",
    "        M.append(row)\n",
    "    return(M)\n",
    "\n",
    "def prMatrix(M,n):\n",
    "    for i in range(n):\n",
    "        for j in range(n):\n",
    "            print(M[i][j], end=\" \")\n",
    "        print() \n",
    "\n",
    "def tpMatrix(M,n,result):\n",
    "    for i in range(n):\n",
    "        for j in range(n):\n",
    "            result[i][j]= M[j][i]\n",
    "    return result\n",
    "\n",
    "n=int(input(\"Enter N for N x N matrix: \"))       \n",
    "M1 = crMatrix(n)\n",
    "\n",
    "print(\"Display Array M1 In Matrix Form\")\n",
    "prMatrix(M1,n)\n",
    "\n",
    "result = Matrix(n)\n",
    "result = tpMatrix(M1,n,result)\n",
    "print(\"Transposed Matrix\")\n",
    "for r in result:\n",
    "    print(r)"
   ]
  },
  {
   "cell_type": "markdown",
   "id": "fea496dc",
   "metadata": {},
   "source": [
    "4. Write a Python Program to Sort Words in Alphabetic Order?"
   ]
  },
  {
   "cell_type": "code",
   "execution_count": 6,
   "id": "38e403e8",
   "metadata": {},
   "outputs": [
    {
     "name": "stdout",
     "output_type": "stream",
     "text": [
      "Enter string:  I LOVE TO CODE\n",
      "CODE\n",
      "I\n",
      "LOVE\n",
      "TO\n"
     ]
    }
   ],
   "source": [
    "Arr = input(\"Enter string:  \")\n",
    "\n",
    "words = Arr.split()\n",
    "words.sort()\n",
    "for word in words:\n",
    "    print(word)"
   ]
  },
  {
   "cell_type": "markdown",
   "id": "b53b12e8",
   "metadata": {},
   "source": [
    "5. Write a Python Program to Remove Punctuation From a String?"
   ]
  },
  {
   "cell_type": "code",
   "execution_count": 10,
   "id": "ed5676ac",
   "metadata": {},
   "outputs": [
    {
     "name": "stdout",
     "output_type": "stream",
     "text": [
      "Enter a string with punctuationsSun rise in the east!@#%&^(*)(_)*&%$#!@$%^&\n",
      "Sun rise in the east\n"
     ]
    }
   ],
   "source": [
    "punctuations = '''!()-[]{};:'\"\\,<>./?@#$%^&*_~'''\n",
    "\n",
    "Arr = input(\"Enter a string with punctuations\")\n",
    "\n",
    "\n",
    "rem_punc = \"\"\n",
    "for i in Arr:\n",
    "    if i not in punctuations:\n",
    "        rem_punc = rem_punc + i\n",
    "\n",
    "# display \n",
    "print(rem_punc)"
   ]
  },
  {
   "cell_type": "code",
   "execution_count": null,
   "id": "985f505f",
   "metadata": {},
   "outputs": [],
   "source": []
  }
 ],
 "metadata": {
  "kernelspec": {
   "display_name": "Python 3 (ipykernel)",
   "language": "python",
   "name": "python3"
  },
  "language_info": {
   "codemirror_mode": {
    "name": "ipython",
    "version": 3
   },
   "file_extension": ".py",
   "mimetype": "text/x-python",
   "name": "python",
   "nbconvert_exporter": "python",
   "pygments_lexer": "ipython3",
   "version": "3.9.12"
  }
 },
 "nbformat": 4,
 "nbformat_minor": 5
}
