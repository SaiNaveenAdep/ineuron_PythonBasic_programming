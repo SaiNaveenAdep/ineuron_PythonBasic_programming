{
 "cells": [
  {
   "cell_type": "markdown",
   "id": "ac780b4c",
   "metadata": {},
   "source": [
    "1. Write a Python program to check if the given number is a Disarium Number?"
   ]
  },
  {
   "cell_type": "code",
   "execution_count": 1,
   "id": "68521f9e",
   "metadata": {},
   "outputs": [
    {
     "name": "stdout",
     "output_type": "stream",
     "text": [
      "Enter the number :56784321\n",
      "56784321 Number is not Disarium\n"
     ]
    }
   ],
   "source": [
    "#A number is said to be the Disarium number when the sum of its digit\n",
    "# raised to the power of their respective positions becomes equal to the number itself.\n",
    "\n",
    "def Disarium(num):\n",
    "    sum = 0\n",
    "    while(num>0):\n",
    "        l= len(str(num))\n",
    "        no = num%10\n",
    "        sum= sum + no**l   \n",
    "        l-=1\n",
    "        num = num//10\n",
    "    return sum\n",
    "\n",
    "num = int(input(\"Enter the number :\"))\n",
    "\n",
    "\n",
    "sum = Disarium(num)\n",
    "if sum == num:\n",
    "    print(num,\"Number is Disarium\")\n",
    "else:\n",
    "    print(num,\"Number is not Disarium\")\n"
   ]
  },
  {
   "cell_type": "markdown",
   "id": "01df01c9",
   "metadata": {},
   "source": [
    "2. Write a Python program to print all disarium numbers between 1 to 100?"
   ]
  },
  {
   "cell_type": "code",
   "execution_count": 4,
   "id": "af3e07ee",
   "metadata": {},
   "outputs": [
    {
     "name": "stdout",
     "output_type": "stream",
     "text": [
      "Disarium no in range 1 to 100\n",
      "[1, 2, 3, 4, 5, 6, 7, 8, 9, 89]\n"
     ]
    }
   ],
   "source": [
    "def Disarium(num):\n",
    "    sum = 0\n",
    "    while(num>0):\n",
    "        l= len(str(num))\n",
    "        no = num%10\n",
    "        sum= sum + no**l   \n",
    "        l-=1\n",
    "        num = num//10\n",
    "    return sum\n",
    "\n",
    "print(\"Disarium no in range 1 to 100\")\n",
    "\n",
    "disno = []\n",
    "\n",
    "for i in range(1,101):\n",
    "    sum = 0\n",
    "    sum = Disarium(i)\n",
    "    if sum == i:\n",
    "        disno.append(i)        \n",
    "print(disno)"
   ]
  },
  {
   "cell_type": "markdown",
   "id": "bba9552b",
   "metadata": {},
   "source": [
    "3. Write a Python program to check if the given number is Happy Number?"
   ]
  },
  {
   "cell_type": "code",
   "execution_count": 6,
   "id": "d2325216",
   "metadata": {},
   "outputs": [
    {
     "name": "stdout",
     "output_type": "stream",
     "text": [
      "Enter the number :666\n",
      "666  Is a Unhappy Number\n"
     ]
    }
   ],
   "source": [
    "def Happy(num):\n",
    "    sum = 0\n",
    "    while(num>0):\n",
    "        dig = num%10\n",
    "        sum= sum + dig**2        \n",
    "        num = num//10\n",
    "    return sum\n",
    "\n",
    "num = int(input(\"Enter the number :\"))\n",
    "result = num\n",
    "\n",
    "\n",
    "while (result != 1 and result != 4):\n",
    "    result = Happy(result)\n",
    "\n",
    "if result == 1:\n",
    "    print(num,\"Is a Happy Number\")\n",
    "else:\n",
    "    print(num,\" Is a Unhappy Number\")"
   ]
  },
  {
   "cell_type": "markdown",
   "id": "18613212",
   "metadata": {},
   "source": [
    "4. Write a Python program to print all happy numbers between 1 and 100?"
   ]
  },
  {
   "cell_type": "code",
   "execution_count": 7,
   "id": "f7f89a8e",
   "metadata": {},
   "outputs": [
    {
     "name": "stdout",
     "output_type": "stream",
     "text": [
      "Happy numbers in range 1 to 100\n",
      "[1, 7, 10, 13, 19, 23, 28, 31, 32, 44, 49, 68, 70, 79, 82, 86, 91, 94, 97, 100]\n"
     ]
    }
   ],
   "source": [
    "def Happy(num):\n",
    "    sum = 0\n",
    "    while(num>0):\n",
    "        dig = num%10\n",
    "        sum= sum + dig**2        \n",
    "        num = num//10\n",
    "    return sum\n",
    "\n",
    "print(\"Happy numbers in range 1 to 100\")\n",
    "result=num=i=0\n",
    "happyNo = []\n",
    "for i in range(1,101):\n",
    "    result = i\n",
    "    while (result != 1 and result != 4):\n",
    "        result = Happy(result)    \n",
    "    if result == 1:\n",
    "        happyNo.append(i)\n",
    "print(happyNo)"
   ]
  },
  {
   "cell_type": "markdown",
   "id": "9a5ecbea",
   "metadata": {},
   "source": [
    "5. Write a Python program to determine whether the given number is a Harshad Number?"
   ]
  },
  {
   "cell_type": "code",
   "execution_count": 8,
   "id": "93199fe9",
   "metadata": {},
   "outputs": [
    {
     "name": "stdout",
     "output_type": "stream",
     "text": [
      "Enter no. :66\n",
      "66 Is not a Harshad number\n"
     ]
    }
   ],
   "source": [
    "#if a number is divisible by the sum of its digits, then it will be known as a Harshad Number\n",
    "\n",
    "def digsum(num):\n",
    "    sum = 0\n",
    "    while(num>0):\n",
    "        dig = num%10\n",
    "        sum= sum + dig      \n",
    "        num = num//10\n",
    "    return sum\n",
    "\n",
    "num = int(input(\"Enter no. :\"))\n",
    "sum = digsum(num)\n",
    "\n",
    "if num % sum == 0:\n",
    "    print(num,\"Is a Harshad number\")\n",
    "else:\n",
    "    print(num,\"Is not a Harshad number\")\n",
    "\n"
   ]
  },
  {
   "cell_type": "markdown",
   "id": "82cf70d7",
   "metadata": {},
   "source": [
    "6. Write a Python program to print all pronic numbers between 1 and 100?"
   ]
  },
  {
   "cell_type": "code",
   "execution_count": 9,
   "id": "29852fbe",
   "metadata": {},
   "outputs": [
    {
     "name": "stdout",
     "output_type": "stream",
     "text": [
      "Pronic numbers in range 1 to 100\n",
      "[2, 6, 12, 20, 30, 42, 56, 72, 90]\n"
     ]
    }
   ],
   "source": [
    "# Pronic number is a number which is the product of two consecutive integers, \n",
    "# that is, a number n is a product of x and (x+1). \n",
    "# The task is to check and print Pronic Numbers in a range.\n",
    "\n",
    "def PronicNo(num):\n",
    "    Pronic = False\n",
    "    for i in range(1,num+1):\n",
    "        if i*(i+1) == num:\n",
    "            Pronic = True\n",
    "            break\n",
    "    return Pronic\n",
    "\n",
    "print(\"Pronic numbers in range 1 to 100\")\n",
    "pronicno = []\n",
    "for i in range(1,101):\n",
    "    if PronicNo(i):\n",
    "        pronicno.append(i)\n",
    "print(pronicno)"
   ]
  },
  {
   "cell_type": "code",
   "execution_count": null,
   "id": "252c0ce3",
   "metadata": {},
   "outputs": [],
   "source": []
  }
 ],
 "metadata": {
  "kernelspec": {
   "display_name": "Python 3 (ipykernel)",
   "language": "python",
   "name": "python3"
  },
  "language_info": {
   "codemirror_mode": {
    "name": "ipython",
    "version": 3
   },
   "file_extension": ".py",
   "mimetype": "text/x-python",
   "name": "python",
   "nbconvert_exporter": "python",
   "pygments_lexer": "ipython3",
   "version": "3.9.12"
  }
 },
 "nbformat": 4,
 "nbformat_minor": 5
}
