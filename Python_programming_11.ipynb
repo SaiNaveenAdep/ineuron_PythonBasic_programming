{
 "cells": [
  {
   "cell_type": "markdown",
   "id": "eacfddab",
   "metadata": {},
   "source": [
    "1. Write a Python program to find words which are greater than given length k?"
   ]
  },
  {
   "cell_type": "code",
   "execution_count": 6,
   "id": "1492a03d",
   "metadata": {},
   "outputs": [
    {
     "name": "stdout",
     "output_type": "stream",
     "text": [
      "Enter the string : i love my country India🧡\n",
      "Enter the lenth K : 2\n",
      "\n",
      "The original string ' i love my country India🧡 '\n",
      "Words greater than k: 2\n",
      "['love', 'country', 'India🧡']\n"
     ]
    }
   ],
   "source": [
    "\n",
    "def word(k,string):\n",
    "    text = string.split()\n",
    "    Wordlist = []\n",
    "    \n",
    "    for i in text:\n",
    "        if len(i) > k:\n",
    "            Wordlist.append(i)\n",
    "    return Wordlist\n",
    "\n",
    "string = input(\"Enter the string : \")\n",
    "k = int(input(\"Enter the lenth K : \"))\n",
    "\n",
    "Wordlist = word(k,string)\n",
    "\n",
    "print(\"\\nThe original string ' {} '\".format(string))\n",
    "\n",
    "print(\"Words greater than k: {}\".format(k))\n",
    "print(Wordlist)\n"
   ]
  },
  {
   "cell_type": "markdown",
   "id": "1e70bf6a",
   "metadata": {},
   "source": [
    "2. Write a Python program for removing i-th character from a string?"
   ]
  },
  {
   "cell_type": "code",
   "execution_count": 9,
   "id": "128d1a36",
   "metadata": {},
   "outputs": [
    {
     "name": "stdout",
     "output_type": "stream",
     "text": [
      "Enter the string : my name is naveen\n",
      "Enter the index : 6\n",
      "The new string :  my nam is naveen\n"
     ]
    }
   ],
   "source": [
    "def remove(string,i):\n",
    "    for j in range(len(string)):\n",
    "        if j ==i:\n",
    "            string = string.replace(string[i], \"\", 1)\n",
    "    return string\n",
    "string = input(\"Enter the string : \")\n",
    "i = int(input(\"Enter the index : \"))\n",
    "\n",
    "# Print the new string\n",
    "\n",
    "print(\"The new string : \", remove(string, i))\n"
   ]
  },
  {
   "cell_type": "markdown",
   "id": "dbfd9320",
   "metadata": {},
   "source": [
    "3. Write a Python program to split and join a string?"
   ]
  },
  {
   "cell_type": "code",
   "execution_count": 12,
   "id": "c7fb89b9",
   "metadata": {},
   "outputs": [
    {
     "name": "stdout",
     "output_type": "stream",
     "text": [
      "This is the splited string:  ['I', 'love', 'india']\n",
      "This is the joined string: I-love-india\n"
     ]
    }
   ],
   "source": [
    "string = \"I love india\"\n",
    "string = string.split()\n",
    "print(\"This is the splited string: \", string)\n",
    "\n",
    "joining = \"-\".join(string)\n",
    "print(\"This is the joined string:\",joining)\n"
   ]
  },
  {
   "cell_type": "markdown",
   "id": "55a61191",
   "metadata": {},
   "source": [
    "4. Write a Python to check if a given string is binary string or not?"
   ]
  },
  {
   "cell_type": "code",
   "execution_count": 26,
   "id": "9c979df7",
   "metadata": {},
   "outputs": [
    {
     "name": "stdout",
     "output_type": "stream",
     "text": [
      "Enter the string : 01\n",
      "Binary\n"
     ]
    }
   ],
   "source": [
    "def ifbinary(str):\n",
    "    binary = '01'\n",
    "    for i in range(len(str)):\n",
    "        if str[i] not in binary:\n",
    "            print(\"it's not binary\")\n",
    "            break\n",
    "    else:\n",
    "        print(\"Binary\")\n",
    "        \n",
    "str = input(\"Enter the string : \")\n",
    "ifbinary(str)"
   ]
  },
  {
   "cell_type": "markdown",
   "id": "4913efad",
   "metadata": {},
   "source": [
    "5. Write a Python program to find uncommon words from two Strings?"
   ]
  },
  {
   "cell_type": "code",
   "execution_count": 27,
   "id": "5b7636b6",
   "metadata": {},
   "outputs": [
    {
     "name": "stdout",
     "output_type": "stream",
     "text": [
      "Enter the string a : i write code\n",
      "Enter the string b : i write code with python\n",
      "The list of un Common words :   with python\n"
     ]
    }
   ],
   "source": [
    "def unCommon(a,b):\n",
    "    list_one = a.split()\n",
    "    list_two = b.split()\n",
    "    notcom =''\n",
    "    \n",
    "    for i in list_one:\n",
    "        if i not in list_two:\n",
    "            notcom = notcom +\" \"+ i\n",
    "    for j in list_two:\n",
    "        if j not in list_one:\n",
    "            notcom = notcom +\" \"+ j\n",
    "    return notcom\n",
    "\n",
    "a = input(\"Enter the string a : \").lower()\n",
    "b = input(\"Enter the string b : \").lower()\n",
    "\n",
    "print(\"The list of un Common words : \", unCommon(a,b))\n"
   ]
  },
  {
   "cell_type": "markdown",
   "id": "2574353f",
   "metadata": {},
   "source": [
    "6. Write a Python to find all duplicate characters in string?"
   ]
  },
  {
   "cell_type": "code",
   "execution_count": 28,
   "id": "1e7cbac4",
   "metadata": {},
   "outputs": [
    {
     "name": "stdout",
     "output_type": "stream",
     "text": [
      "Enter the string a : i love india\n"
     ]
    },
    {
     "data": {
      "text/plain": [
       "['i', ' ']"
      ]
     },
     "execution_count": 28,
     "metadata": {},
     "output_type": "execute_result"
    }
   ],
   "source": [
    "str = input(\"Enter the string a : \").lower()\n",
    "duplicate = []\n",
    "\n",
    "for i in str:\n",
    "    if str.count(i) > 1 :\n",
    "        if i not in duplicate:\n",
    "            duplicate.append(i)\n",
    "        \n",
    "duplicate\n"
   ]
  },
  {
   "cell_type": "code",
   "execution_count": 29,
   "id": "a1b7463e",
   "metadata": {},
   "outputs": [
    {
     "name": "stdout",
     "output_type": "stream",
     "text": [
      "Object `character` not found.\n"
     ]
    }
   ],
   "source": [
    "7. Write a Python Program to check if a string contains any special character?"
   ]
  },
  {
   "cell_type": "markdown",
   "id": "7becab0e",
   "metadata": {},
   "source": [
    "7. Write a Python Program to check if a string contains any special character"
   ]
  },
  {
   "cell_type": "code",
   "execution_count": 31,
   "id": "3332c1d1",
   "metadata": {},
   "outputs": [
    {
     "name": "stdout",
     "output_type": "stream",
     "text": [
      "Enter the string a : abcdefghijklmnopqrstuvwxyz,.;'/[';]-098\n",
      "String abcdefghijklmnopqrstuvwxyz,.;'/[';]-098 has special charecter/s : [',', '.', ';', \"'\", '/', '[', \"'\", ';', ']', '-']\n"
     ]
    }
   ],
   "source": [
    "import string\n",
    "\n",
    "str_char = string.punctuation\n",
    "speci_str = []\n",
    "\n",
    "str = input(\"Enter the string a : \").lower()\n",
    "for i in str:\n",
    "    if i in str_char:\n",
    "        speci_str.append(i)\n",
    "if len(speci_str) > 0:\n",
    "    print(\"String {} has special charecter/s : {}\".format(str,speci_str))"
   ]
  },
  {
   "cell_type": "code",
   "execution_count": null,
   "id": "ab05c142",
   "metadata": {},
   "outputs": [],
   "source": []
  }
 ],
 "metadata": {
  "kernelspec": {
   "display_name": "Python 3 (ipykernel)",
   "language": "python",
   "name": "python3"
  },
  "language_info": {
   "codemirror_mode": {
    "name": "ipython",
    "version": 3
   },
   "file_extension": ".py",
   "mimetype": "text/x-python",
   "name": "python",
   "nbconvert_exporter": "python",
   "pygments_lexer": "ipython3",
   "version": "3.9.12"
  }
 },
 "nbformat": 4,
 "nbformat_minor": 5
}
