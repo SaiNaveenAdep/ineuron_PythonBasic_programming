{
 "cells": [
  {
   "cell_type": "markdown",
   "id": "32c097f1",
   "metadata": {},
   "source": [
    "1. Write a Python Program to Display Fibonacci Sequence Using Recursion?"
   ]
  },
  {
   "cell_type": "code",
   "execution_count": 24,
   "id": "87369eae",
   "metadata": {},
   "outputs": [
    {
     "name": "stdout",
     "output_type": "stream",
     "text": [
      "input no: 10\n",
      "0   1   1   2   3   5   8   13   21   34   "
     ]
    }
   ],
   "source": [
    "def recfib(n):\n",
    "    if n <=1:\n",
    "        return n\n",
    "    else:\n",
    "        return recfib(n-1) + recfib(n-2)\n",
    "num = int(input(\"input no: \"))\n",
    "\n",
    "if num <= 0:\n",
    "    (\"provide positive number\")\n",
    "\n",
    "for i in range(num):\n",
    "    print(recfib(i), end = \"   \")\n",
    "    \n",
    "\n",
    "    \n",
    "#\"\"\"The end parameter in the print function is used to add any string. \n",
    "#At the end of the output of the print statement in python.\n",
    "\n",
    "#By default, the print function ends with a newline.\n",
    "\n",
    "#Passing the whitespace to the end parameter (end=‘ ‘) \n",
    "#indicates that the end character has to be identified by whitespace and not a newline.\"\"\"\n",
    "    "
   ]
  },
  {
   "cell_type": "markdown",
   "id": "18dd69e8",
   "metadata": {},
   "source": [
    "2. Write a Python Program to Find Factorial of Number Using Recursion?"
   ]
  },
  {
   "cell_type": "code",
   "execution_count": 30,
   "id": "dcec4b51",
   "metadata": {},
   "outputs": [
    {
     "name": "stdout",
     "output_type": "stream",
     "text": [
      "input a no : 6\n",
      "720\n"
     ]
    }
   ],
   "source": [
    "def fact(n):\n",
    "    if n==0:\n",
    "        return 1\n",
    "    else:\n",
    "        return n * fact(n-1)\n",
    "\n",
    "num = int(input(\"input a no : \"))\n",
    "\n",
    "if num<0:\n",
    "    print(\"Enter positive no.\")\n",
    "else:\n",
    "    \n",
    "        print(fact(num))\n"
   ]
  },
  {
   "cell_type": "markdown",
   "id": "4c281049",
   "metadata": {},
   "source": [
    "3. Write a Python Program to calculate your Body Mass Index?\n",
    "\n",
    "    "
   ]
  },
  {
   "cell_type": "code",
   "execution_count": 36,
   "id": "fa8d1950",
   "metadata": {},
   "outputs": [
    {
     "name": "stdout",
     "output_type": "stream",
     "text": [
      "enter your weight in kilograms:  78\n",
      "enter your weight in feets: 5.10\n",
      "The Bmi =  2.9988465974625145\n"
     ]
    }
   ],
   "source": [
    "# Bmi = weight/height*height\n",
    "\n",
    "weight = float(input(\"enter your weight in kilograms:  \"))\n",
    "height = float(input(\"enter your weight in feets: \"))\n",
    "\n",
    "bmi = weight/(height*height)\n",
    "print(\"The Bmi = \",bmi)"
   ]
  },
  {
   "cell_type": "markdown",
   "id": "28154e4e",
   "metadata": {},
   "source": [
    "4. Write a Python Program to calculate the natural logarithm of any number?"
   ]
  },
  {
   "cell_type": "code",
   "execution_count": 40,
   "id": "f76cc23e",
   "metadata": {},
   "outputs": [
    {
     "name": "stdout",
     "output_type": "stream",
     "text": [
      "Enter a number: 10\n",
      " log of 10 is 2.302585092994046\n"
     ]
    }
   ],
   "source": [
    "import math\n",
    "\n",
    "x = int(input(\"Enter a number: \"))\n",
    "log = math.log(x)\n",
    "\n",
    "print(\" log of {} is {}\".format(x,log))"
   ]
  },
  {
   "cell_type": "markdown",
   "id": "5ba5373e",
   "metadata": {},
   "source": [
    "5. Write a Python Program for cube sum of first n natural numbers?"
   ]
  },
  {
   "cell_type": "code",
   "execution_count": 56,
   "id": "ec7ba111",
   "metadata": {},
   "outputs": [
    {
     "name": "stdout",
     "output_type": "stream",
     "text": [
      "enter a number to no the cube of it: 5\n",
      "cube of 5 natural number is 225\n"
     ]
    }
   ],
   "source": [
    "num = int(input(\"enter a number to no the cube of it: \"))\n",
    "\n",
    "sum = 0\n",
    "for i in range(1,num+1):\n",
    "    sum = sum+i**3\n",
    "print(\"cube of {} natural number is {}\".format(num,sum))\n"
   ]
  },
  {
   "cell_type": "code",
   "execution_count": null,
   "id": "c400be4a",
   "metadata": {},
   "outputs": [],
   "source": []
  }
 ],
 "metadata": {
  "kernelspec": {
   "display_name": "Python 3 (ipykernel)",
   "language": "python",
   "name": "python3"
  },
  "language_info": {
   "codemirror_mode": {
    "name": "ipython",
    "version": 3
   },
   "file_extension": ".py",
   "mimetype": "text/x-python",
   "name": "python",
   "nbconvert_exporter": "python",
   "pygments_lexer": "ipython3",
   "version": "3.9.12"
  }
 },
 "nbformat": 4,
 "nbformat_minor": 5
}
