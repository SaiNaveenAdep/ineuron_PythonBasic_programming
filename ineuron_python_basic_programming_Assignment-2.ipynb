{
 "cells": [
  {
   "cell_type": "markdown",
   "id": "81ed19af",
   "metadata": {},
   "source": [
    "# ineuron_python_basic_programming_Assignment-2"
   ]
  },
  {
   "cell_type": "code",
   "execution_count": 8,
   "id": "3e24c5ec",
   "metadata": {},
   "outputs": [
    {
     "name": "stdout",
     "output_type": "stream",
     "text": [
      "Enter kilometers (KM) : 6\n",
      "miles:  3.72822\n"
     ]
    }
   ],
   "source": [
    "# 1. Write a Python program to convert kilometers to miles?\n",
    "\n",
    "kilometers = int(input(\"Enter kilometers (KM) : \" ))\n",
    "miles = 0.62137 \n",
    "mi = kilometers*miles\n",
    "print(\"miles: \", mi)"
   ]
  },
  {
   "cell_type": "code",
   "execution_count": 10,
   "id": "53f46ccc",
   "metadata": {},
   "outputs": [
    {
     "name": "stdout",
     "output_type": "stream",
     "text": [
      "Enter Celsius: 50\n",
      "Fahrenheit:  45.0\n"
     ]
    }
   ],
   "source": [
    "# 2. Write a Python program to convert Celsius to Fahrenheit?\n",
    "\n",
    "Celsius = int(input(\"Enter Celsius: \" ))\n",
    "Fahrenheit = (Celsius*1.8)/2\n",
    "print(\"Fahrenheit: \",Fahrenheit)"
   ]
  },
  {
   "cell_type": "code",
   "execution_count": 3,
   "id": "3e80425c",
   "metadata": {},
   "outputs": [
    {
     "name": "stdout",
     "output_type": "stream",
     "text": [
      "enter month: 3\n",
      "enter year:1996\n",
      "     March 1996\n",
      "Mo Tu We Th Fr Sa Su\n",
      "             1  2  3\n",
      " 4  5  6  7  8  9 10\n",
      "11 12 13 14 15 16 17\n",
      "18 19 20 21 22 23 24\n",
      "25 26 27 28 29 30 31\n",
      "\n"
     ]
    }
   ],
   "source": [
    "# 3. Write a Python program to display calendar?\n",
    "\n",
    "import calendar\n",
    "month = int(input(\"enter month: \"))\n",
    "year = int(input(\"enter year:\"))\n",
    "print(calendar.month(year, month ))\n",
    "\n"
   ]
  },
  {
   "cell_type": "code",
   "execution_count": 8,
   "id": "d4f91f49",
   "metadata": {},
   "outputs": [
    {
     "name": "stdout",
     "output_type": "stream",
     "text": [
      "Enter a value =  5\n",
      "Enter b value =  6\n",
      "Enter c value =  9\n",
      "(-0.6+1.2j) , (-0.6-1.2j)\n"
     ]
    }
   ],
   "source": [
    "# 4. Write a Python program to solve quadratic equation?\n",
    "\n",
    "# Formula:\n",
    "# x=-b+-sqrt(b**2-4ac)/2*a\n",
    "import cmath\n",
    "a = int(input(\"Enter a value =  \"))\n",
    "b = int(input(\"Enter b value =  \"))\n",
    "c = int(input(\"Enter c value =  \"))\n",
    "discriminant = (b**2)-(4*a*c)\n",
    "sol_one = (-b+cmath.sqrt(discriminant))/(2*a)\n",
    "sol_two = (-b-cmath.sqrt(discriminant))/(2*a)\n",
    "print(sol_one ,\",\", sol_two)\n",
    "\n"
   ]
  },
  {
   "cell_type": "code",
   "execution_count": 12,
   "id": "7aa2fb56",
   "metadata": {},
   "outputs": [
    {
     "name": "stdout",
     "output_type": "stream",
     "text": [
      "First Variable =  5\n",
      "Second Variable =  2\n",
      "First Variable Before swap  : 5 \n",
      "Second variable Before Swap  : 2\n",
      "After Swap : \n",
      "First Variabe : 2 \n",
      "Second Variable : 5\n"
     ]
    }
   ],
   "source": [
    "# 5. Write a Python program to swap two variables without temp variable?\n",
    "\n",
    "\n",
    "first_variable = int(input(\"First Variable =  \"))\n",
    "second_variable = int(input(\"Second Variable =  \"))\n",
    "print(\"First Variable Before swap  : {} \\nSecond variable Before Swap  : {}\".format(first_variable,second_variable))\n",
    "first_variable , second_variable = second_variable , first_variable\n",
    "\n",
    "print(\"After Swap : \\nFirst Variabe : {} \\nSecond Variable : {}\".format(first_variable , second_variable))"
   ]
  },
  {
   "cell_type": "code",
   "execution_count": null,
   "id": "7df7e8ad",
   "metadata": {},
   "outputs": [],
   "source": []
  }
 ],
 "metadata": {
  "kernelspec": {
   "display_name": "Python 3 (ipykernel)",
   "language": "python",
   "name": "python3"
  },
  "language_info": {
   "codemirror_mode": {
    "name": "ipython",
    "version": 3
   },
   "file_extension": ".py",
   "mimetype": "text/x-python",
   "name": "python",
   "nbconvert_exporter": "python",
   "pygments_lexer": "ipython3",
   "version": "3.9.12"
  }
 },
 "nbformat": 4,
 "nbformat_minor": 5
}
