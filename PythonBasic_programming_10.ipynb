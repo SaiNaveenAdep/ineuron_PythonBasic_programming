{
 "cells": [
  {
   "cell_type": "markdown",
   "id": "75c2690f",
   "metadata": {},
   "source": [
    "1. Write a Python program to find sum of elements in list?"
   ]
  },
  {
   "cell_type": "code",
   "execution_count": 1,
   "id": "10acc6ac",
   "metadata": {},
   "outputs": [
    {
     "name": "stdout",
     "output_type": "stream",
     "text": [
      "Enter a list: 6\n",
      "1\n",
      "2\n",
      "3\n",
      "4\n",
      "5\n",
      "6\n",
      "The list is🧨: [1, 2, 3, 4, 5, 6]\n",
      "sum of elements in the list 🎨: 21\n"
     ]
    }
   ],
   "source": [
    "list = int(input(\"Enter a list: \"))\n",
    "list_numbers=[]\n",
    "for i in range(list):\n",
    "    list_numbers.append(int(input()))\n",
    "print(\"The list is🧨:\", list_numbers)\n",
    "print(\"sum of elements in the list 🎨:\", sum(list_numbers))\n",
    "    \n",
    "        \n"
   ]
  },
  {
   "cell_type": "markdown",
   "id": "6df183c5",
   "metadata": {},
   "source": [
    "2. Write a Python program to Multiply all numbers in the list?"
   ]
  },
  {
   "cell_type": "code",
   "execution_count": 2,
   "id": "a7c24ac9",
   "metadata": {},
   "outputs": [
    {
     "name": "stdout",
     "output_type": "stream",
     "text": [
      "Enter a number that you want to multiply numbers in the list: 7\n",
      "1\n",
      "2\n",
      "3\n",
      "4\n",
      "5\n",
      "6\n",
      "7\n",
      "Enter your list 🎪:  [1, 2, 3, 4, 5, 6, 7]\n",
      "multipication of the list is 🥽:  279936\n"
     ]
    }
   ],
   "source": [
    "n = int(input(\"Enter a number that you want to multiply numbers in the list: \"))\n",
    "mult = []\n",
    "for i in range(n):\n",
    "    mult.append(int(input()))\n",
    "print(\"Enter your list 🎪: \",mult)\n",
    "product = 1\n",
    "for j in mult:\n",
    "    product = product*i\n",
    "print(\"multipication of the list is 🥽: \", product)\n",
    "    "
   ]
  },
  {
   "cell_type": "markdown",
   "id": "5f236fce",
   "metadata": {},
   "source": [
    "3. Write a Python program to find smallest number in a list?"
   ]
  },
  {
   "cell_type": "code",
   "execution_count": 3,
   "id": "f1aa728c",
   "metadata": {},
   "outputs": [
    {
     "name": "stdout",
     "output_type": "stream",
     "text": [
      "Enter the list length: 8\n",
      "5\n",
      "3\n",
      "23\n",
      "1\n",
      "6\n",
      "78\n",
      "24\n",
      "3\n",
      "The list numbers are 👑:  [5, 3, 23, 1, 6, 78, 24, 3]\n",
      "The smallest number in a list is 🎭:  1\n"
     ]
    }
   ],
   "source": [
    "number = int(input(\"Enter the list length: \"))\n",
    "list_numbers = []\n",
    "for small in range(number):\n",
    "    list_numbers.append(int(input()))\n",
    "print(\"The list numbers are 👑: \", list_numbers)\n",
    "print(\"The smallest number in a list is 🎭: \",min(list_numbers))\n"
   ]
  },
  {
   "cell_type": "markdown",
   "id": "bc4375e4",
   "metadata": {},
   "source": [
    "4. Write a Python program to find largest number in a list?"
   ]
  },
  {
   "cell_type": "code",
   "execution_count": 4,
   "id": "0cc0e696",
   "metadata": {},
   "outputs": [
    {
     "name": "stdout",
     "output_type": "stream",
     "text": [
      "Enter the list length9\n",
      "32\n",
      "1\n",
      "35\n",
      "64\n",
      "235\n",
      "42\n",
      "41\n",
      "4\n",
      "56\n",
      "The numbers in the list are 🎢:  [32, 1, 35, 64, 235, 42, 41, 4, 56]\n",
      "The largest number in the given list 👒:  235\n"
     ]
    }
   ],
   "source": [
    "large_number = int(input(\"Enter the list length\"))\n",
    "number = []\n",
    "for numbers in range(large_number):\n",
    "    number.append(int(input()))\n",
    "print(\"The numbers in the list are 🎢: \",number)\n",
    "print(\"The largest number in the given list 👒: \",max(number))"
   ]
  },
  {
   "cell_type": "markdown",
   "id": "5d80b2d3",
   "metadata": {},
   "source": [
    "5. Write a Python program to find second largest number in a list?"
   ]
  },
  {
   "cell_type": "code",
   "execution_count": 5,
   "id": "7a0e9ab1",
   "metadata": {},
   "outputs": [
    {
     "name": "stdout",
     "output_type": "stream",
     "text": [
      "Enter list length👉: 7\n",
      "34\n",
      "5\n",
      "6\n",
      "7\n",
      "2\n",
      "124\n",
      "5\n",
      "The numbers in the list:  [34, 5, 6, 7, 2, 124, 5]\n",
      "sorted list are:  [2, 5, 5, 6, 7, 34, 124]\n",
      "The second largest number in the list is🎉:  34\n"
     ]
    }
   ],
   "source": [
    "second_large_number = int(input(\"Enter list length👉: \"))\n",
    "empty_list = []\n",
    "for  second_number in range(second_large_number):\n",
    "    empty_list.append(int(input()))\n",
    "print(\"The numbers in the list: \",empty_list)\n",
    "empty_list.sort()\n",
    "print(\"sorted list are: \",empty_list)\n",
    "print(\"The second largest number in the list is🎉: \", empty_list[-2])"
   ]
  },
  {
   "cell_type": "markdown",
   "id": "65e4127a",
   "metadata": {},
   "source": [
    "6. Write a Python program to find N largest elements from a list?"
   ]
  },
  {
   "cell_type": "code",
   "execution_count": 6,
   "id": "d7da90cc",
   "metadata": {},
   "outputs": [
    {
     "name": "stdout",
     "output_type": "stream",
     "text": [
      "Enter a list length: 6\n",
      "enter list Number: 12\n",
      "enter list Number: 4\n",
      "enter list Number: 235\n",
      "enter list Number: 63\n",
      "enter list Number: 23\n",
      "enter list Number: 5\n",
      "The list nnumbers are:  [12, 4, 235, 63, 23, 5]\n",
      "sorted list📃:  [4, 5, 12, 23, 63, 235]\n",
      "Enter how many largest number you want from list  🔢:3\n",
      "3 largest elements from the list are 💣:  [23, 63, 235]\n"
     ]
    }
   ],
   "source": [
    "n = int(input(\"Enter a list length: \"))\n",
    "list = []\n",
    "for j in range(n):\n",
    "    list.append(int(input(\"enter list Number: \")))\n",
    "print(\"The list nnumbers are: \", list)\n",
    "list.sort()\n",
    "print(\"sorted list📃: \",list)\n",
    "large_number = (int(input(\"Enter how many largest number you want from list  🔢:\")))\n",
    "if n < large_number:\n",
    "    print(\"Entered the value is larger then the list\")\n",
    "else:\n",
    "    print(large_number, \"largest elements from the list are 💣: \", list[(n-large_number):])"
   ]
  },
  {
   "cell_type": "markdown",
   "id": "2c1f7b87",
   "metadata": {},
   "source": [
    "7. Write a Python program to print even numbers in a list?"
   ]
  },
  {
   "cell_type": "code",
   "execution_count": 9,
   "id": "e4b023f3",
   "metadata": {},
   "outputs": [
    {
     "name": "stdout",
     "output_type": "stream",
     "text": [
      "Enter the list length: 9\n",
      "Enter the number 🔢: 4\n",
      "The list number are 🎁 :  [4]\n",
      "Enter the number 🔢: 5\n",
      "The list number are 🎁 :  [4, 5]\n",
      "Enter the number 🔢: 6\n",
      "The list number are 🎁 :  [4, 5, 6]\n",
      "Enter the number 🔢: 2\n",
      "The list number are 🎁 :  [4, 5, 6, 2]\n",
      "Enter the number 🔢: 5\n",
      "The list number are 🎁 :  [4, 5, 6, 2, 5]\n",
      "Enter the number 🔢: 8\n",
      "The list number are 🎁 :  [4, 5, 6, 2, 5, 8]\n",
      "Enter the number 🔢: 3\n",
      "The list number are 🎁 :  [4, 5, 6, 2, 5, 8, 3]\n",
      "Enter the number 🔢: 7\n",
      "The list number are 🎁 :  [4, 5, 6, 2, 5, 8, 3, 7]\n",
      "Enter the number 🔢: 36\n",
      "The list number are 🎁 :  [4, 5, 6, 2, 5, 8, 3, 7, 36]\n",
      "The even numbers in the list 📊:  [2, 4, 6, 8, 36]\n"
     ]
    }
   ],
   "source": [
    "n = int(input(\"Enter the list length: \"))\n",
    "list = []\n",
    "for i in range(n):\n",
    "    list.append(int(input(\"Enter the number 🔢: \")))\n",
    "    print(\"The list number are 🎁 : \", list)\n",
    "list.sort()\n",
    "even = [i for i in list if i%2==0] # for i in list if i%2 == 0 print i\n",
    "print(\"The even numbers in the list 📊: \", even)\n"
   ]
  },
  {
   "cell_type": "markdown",
   "id": "3ccdc5d6",
   "metadata": {},
   "source": [
    " 8. Write a Python program to print odd numbers in a List?"
   ]
  },
  {
   "cell_type": "code",
   "execution_count": 10,
   "id": "00560c56",
   "metadata": {},
   "outputs": [
    {
     "name": "stdout",
     "output_type": "stream",
     "text": [
      "Enter the length of the list 🔢: 8\n",
      "Enter the number in to the list 🃏: 2\n",
      "Enter the listed number are 📃:  [2]\n",
      "Enter the number in to the list 🃏: 4\n",
      "Enter the listed number are 📃:  [2, 4]\n",
      "Enter the number in to the list 🃏: 2\n",
      "Enter the listed number are 📃:  [2, 4, 2]\n",
      "Enter the number in to the list 🃏: 46\n",
      "Enter the listed number are 📃:  [2, 4, 2, 46]\n",
      "Enter the number in to the list 🃏: 78\n",
      "Enter the listed number are 📃:  [2, 4, 2, 46, 78]\n",
      "Enter the number in to the list 🃏: 9\n",
      "Enter the listed number are 📃:  [2, 4, 2, 46, 78, 9]\n",
      "Enter the number in to the list 🃏: 3\n",
      "Enter the listed number are 📃:  [2, 4, 2, 46, 78, 9, 3]\n",
      "Enter the number in to the list 🃏: 5\n",
      "Enter the listed number are 📃:  [2, 4, 2, 46, 78, 9, 3, 5]\n",
      "The odd numbers in the list 🎁:  [3, 5, 9]\n"
     ]
    }
   ],
   "source": [
    "number = int(input(\"Enter the length of the list 🔢: \"))\n",
    "\n",
    "odd_number = []\n",
    "\n",
    "for i in range(number):\n",
    "    odd_number.append(int(input(\"Enter the number in to the list 🃏: \")))\n",
    "    print(\"Enter the listed number are 📃: \",odd_number)\n",
    "odd_number.sort()\n",
    "odd = [i for i in odd_number if i%2!=0]\n",
    "print(\"The odd numbers in the list 🎁: \",odd)"
   ]
  },
  {
   "cell_type": "markdown",
   "id": "aa82670c",
   "metadata": {},
   "source": [
    "9. Write a Python program to Remove empty List from List?"
   ]
  },
  {
   "cell_type": "code",
   "execution_count": 11,
   "id": "6afd9579",
   "metadata": {},
   "outputs": [
    {
     "name": "stdout",
     "output_type": "stream",
     "text": [
      "These are the list element's that are present in the list:  [2, [], 3, [], 4, [], 6, [], 9, [], 57, []]\n",
      "[2, 3, 4, 6, 9, 57]\n"
     ]
    }
   ],
   "source": [
    "list = [2,[],3,[],4,[],6,[],9,[],57,[]]\n",
    "print(\"These are the list element's that are present in the list: \",list)\n",
    "empty = [i for i in list if i!=[]]\n",
    "print(empty)"
   ]
  },
  {
   "cell_type": "code",
   "execution_count": 12,
   "id": "24b9ab47",
   "metadata": {},
   "outputs": [
    {
     "name": "stdout",
     "output_type": "stream",
     "text": [
      "The List 🗽: [55, [], 14, 75, [], 96, 80, [], 36]\n",
      "The list after removing empty lists 🎖 : [55, 14, 75, 96, 80, 36]\n"
     ]
    }
   ],
   "source": [
    "\n",
    "lst = [55,[],14,75,[],96,80,[],36]\n",
    "print(\"The List 🗽:\",lst)\n",
    "new_list = [item for item in lst if item != []]\n",
    "print(\"The list after removing empty lists 🎖 :\" , new_list)\n"
   ]
  },
  {
   "cell_type": "markdown",
   "id": "71a4678e",
   "metadata": {},
   "source": [
    "10. Write a Python program to Cloning or Copying a list?"
   ]
  },
  {
   "cell_type": "code",
   "execution_count": 13,
   "id": "72428109",
   "metadata": {},
   "outputs": [
    {
     "name": "stdout",
     "output_type": "stream",
     "text": [
      "Enter the list length:🎆:9\n",
      "Enter the list numbers ✨:1\n",
      "Enter the list numbers ✨:2\n",
      "Enter the list numbers ✨:3\n",
      "Enter the list numbers ✨:4\n",
      "Enter the list numbers ✨:5\n",
      "Enter the list numbers ✨:6\n",
      "Enter the list numbers ✨:7\n",
      "Enter the list numbers ✨:8\n",
      "Enter the list numbers ✨:9\n",
      "These are the list numbers:  [1, 2, 3, 4, 5, 6, 7, 8, 9]\n",
      "These are the copied list numbers:  [1, 2, 3, 4, 5, 6, 7, 8, 9]\n"
     ]
    }
   ],
   "source": [
    "list = int(input(\"Enter the list length:🎆:\"))\n",
    "list_numbers = []\n",
    "for i in range(list):\n",
    "    list_numbers.append(int(input(\"Enter the list numbers ✨:\")))\n",
    "print(\"These are the list numbers: \",list_numbers)\n",
    "list_copy = list_numbers.copy()\n",
    "print(\"These are the copied list numbers: \",list_copy)"
   ]
  },
  {
   "cell_type": "markdown",
   "id": "64b314f1",
   "metadata": {},
   "source": [
    "11. Write a Python program to Count occurrences of an element in a list?"
   ]
  },
  {
   "cell_type": "code",
   "execution_count": 15,
   "id": "79109d61",
   "metadata": {},
   "outputs": [
    {
     "name": "stdout",
     "output_type": "stream",
     "text": [
      "Enter the list length 🎇: 10\n",
      "Enter the list numbers🎊: 1\n",
      "Enter the list numbers🎊: 1\n",
      "Enter the list numbers🎊: 2\n",
      "Enter the list numbers🎊: 2\n",
      "Enter the list numbers🎊: 3\n",
      "Enter the list numbers🎊: 3\n",
      "Enter the list numbers🎊: 5\n",
      "Enter the list numbers🎊: 5\n",
      "Enter the list numbers🎊: 6\n",
      "Enter the list numbers🎊: 7\n",
      "These are the listed numbers 🎉:  [1, 1, 2, 2, 3, 3, 5, 5, 6, 7]\n",
      "Enter the element to find its occurance : 3\n",
      "3 has occured 2 times in the list \n"
     ]
    }
   ],
   "source": [
    "list = (int(input(\"Enter the list length 🎇: \")))\n",
    "\n",
    "numbers = []\n",
    "for i in range(list):\n",
    "    numbers.append(int(input(\"Enter the list numbers🎊: \")))\n",
    "print(\"These are the listed numbers 🎉: \",numbers)\n",
    "element = int(input(\"Enter the element to find its occurance : \"))\n",
    "print(element,\"has occured {} times in the list \".format(numbers.count(element)))"
   ]
  },
  {
   "cell_type": "markdown",
   "id": "a156d559",
   "metadata": {},
   "source": []
  }
 ],
 "metadata": {
  "kernelspec": {
   "display_name": "Python 3 (ipykernel)",
   "language": "python",
   "name": "python3"
  },
  "language_info": {
   "codemirror_mode": {
    "name": "ipython",
    "version": 3
   },
   "file_extension": ".py",
   "mimetype": "text/x-python",
   "name": "python",
   "nbconvert_exporter": "python",
   "pygments_lexer": "ipython3",
   "version": "3.9.12"
  }
 },
 "nbformat": 4,
 "nbformat_minor": 5
}
