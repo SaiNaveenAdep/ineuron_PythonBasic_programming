{
 "cells": [
  {
   "cell_type": "markdown",
   "id": "dd5acc72",
   "metadata": {},
   "source": [
    "#  ineuron_python_basic_programming_Assignment-1"
   ]
  },
  {
   "cell_type": "code",
   "execution_count": 2,
   "id": "d4d13dd1",
   "metadata": {},
   "outputs": [
    {
     "name": "stdout",
     "output_type": "stream",
     "text": [
      "Hello python\n"
     ]
    }
   ],
   "source": [
    "#1. Write a Python program to print \"Hello Python\"?\n",
    "\n",
    "print(\"Hello python\")"
   ]
  },
  {
   "cell_type": "code",
   "execution_count": 16,
   "id": "9a9af155",
   "metadata": {},
   "outputs": [],
   "source": [
    "# 2. Write a Python program to do arithmetical operations addition and division.?\n",
    "\n",
    "def add(a,b):\n",
    "    return(a+b)"
   ]
  },
  {
   "cell_type": "code",
   "execution_count": 17,
   "id": "670192c1",
   "metadata": {},
   "outputs": [],
   "source": [
    "def div(a,b):\n",
    "    return a/b"
   ]
  },
  {
   "cell_type": "code",
   "execution_count": 18,
   "id": "1b92bfc3",
   "metadata": {},
   "outputs": [
    {
     "data": {
      "text/plain": [
       "40"
      ]
     },
     "execution_count": 18,
     "metadata": {},
     "output_type": "execute_result"
    }
   ],
   "source": [
    "add(10,30)"
   ]
  },
  {
   "cell_type": "code",
   "execution_count": 19,
   "id": "34063a7e",
   "metadata": {},
   "outputs": [
    {
     "data": {
      "text/plain": [
       "10.0"
      ]
     },
     "execution_count": 19,
     "metadata": {},
     "output_type": "execute_result"
    }
   ],
   "source": [
    "div(20,2)"
   ]
  },
  {
   "cell_type": "code",
   "execution_count": 20,
   "id": "3239e65b",
   "metadata": {},
   "outputs": [
    {
     "name": "stdout",
     "output_type": "stream",
     "text": [
      "enter first number: 20\n",
      "enter operators: (+,-,*,/,% )*\n",
      "enter second number: 365\n",
      "7300\n"
     ]
    }
   ],
   "source": [
    "# Example for all arthametic operation using if, else and elif statements:\n",
    "\n",
    "\n",
    "first = input(\"enter first number: \" )\n",
    "operators = input(\"enter operators: (+,-,*,/,% )\")\n",
    "second = input(\"enter second number: \" )\n",
    "\n",
    "first = int(first)\n",
    "second = int(second)\n",
    "\n",
    "if operators ==\"+\":\n",
    "    print(first + second)   \n",
    "elif operators == \"-\":\n",
    "    print(first - second)\n",
    "elif operators == \"*\":\n",
    "    print(first * second)\n",
    "elif operators == \"%\":\n",
    "    print(first % second)\n",
    "elif operators == \"/\":\n",
    "    print(first / second)\n",
    "else:\n",
    "    print(\"please enter valid operations\")"
   ]
  },
  {
   "cell_type": "code",
   "execution_count": 37,
   "id": "626c58fa",
   "metadata": {},
   "outputs": [
    {
     "name": "stdout",
     "output_type": "stream",
     "text": [
      "enter height of a triangle: 50\n",
      "enter base of a trinage: 10\n",
      "\n",
      "when the height is 50,\n",
      "base is 10 \n",
      "Area of triange is:  1250\n"
     ]
    }
   ],
   "source": [
    "# 3. Write a Python program to find the area of a triangle?\n",
    "\n",
    "height = int(input(\"enter height of a triangle: \" ))\n",
    "base = int(input(\"enter base of a trinage: \" ))\n",
    " \n",
    "area = (height*length)/2\n",
    "\n",
    "Area = int(area)\n",
    "\n",
    "print(\"\\nwhen the height is {},\\nbase is {}\".format(height,base,area),\"\\nArea of triange is: \" , Area)"
   ]
  },
  {
   "cell_type": "code",
   "execution_count": 45,
   "id": "317fb993",
   "metadata": {},
   "outputs": [
    {
     "name": "stdout",
     "output_type": "stream",
     "text": [
      "Enter the first variable: 50\n",
      "Enter the second variable: 20\n",
      "First variable before swap: 50 \n",
      "second variable before swap: 20\n",
      "-------------------------------------------------------\n",
      "First varibale after swap: 20\n",
      "second variable before swap: 50\n"
     ]
    }
   ],
   "source": [
    "# 4.Write a Python program to swap two variables?\n",
    "\n",
    "\n",
    "first_variable = int(input(\"Enter the first variable: \" ))\n",
    "second_variable = int(input(\"Enter the second variable: \" ))\n",
    "print(\"First variable before swap: {} \\nsecond variable before swap: {}\".format(first_variable,second_variable))\n",
    "\n",
    "first_variable,second_variable = second_variable,first_variable\n",
    "\n",
    "print(\"-------------------------------------------------------\")\n",
    "\n",
    "print(\"First varibale after swap: {}\\nsecond variable before swap: {}\".format(first_variable,second_variable))\n",
    "\n",
    "\n"
   ]
  },
  {
   "cell_type": "code",
   "execution_count": 50,
   "id": "affd4073",
   "metadata": {},
   "outputs": [
    {
     "name": "stdout",
     "output_type": "stream",
     "text": [
      "53\n"
     ]
    }
   ],
   "source": [
    "# 5. Write a Python program to generate a random number?\n",
    "\n",
    "import random\n",
    "print(random.randint(0,100))"
   ]
  },
  {
   "cell_type": "code",
   "execution_count": null,
   "id": "017f434e",
   "metadata": {},
   "outputs": [],
   "source": []
  }
 ],
 "metadata": {
  "kernelspec": {
   "display_name": "Python 3 (ipykernel)",
   "language": "python",
   "name": "python3"
  },
  "language_info": {
   "codemirror_mode": {
    "name": "ipython",
    "version": 3
   },
   "file_extension": ".py",
   "mimetype": "text/x-python",
   "name": "python",
   "nbconvert_exporter": "python",
   "pygments_lexer": "ipython3",
   "version": "3.9.12"
  }
 },
 "nbformat": 4,
 "nbformat_minor": 5
}
