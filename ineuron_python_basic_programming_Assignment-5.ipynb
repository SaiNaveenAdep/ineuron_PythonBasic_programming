{
 "cells": [
  {
   "cell_type": "markdown",
   "id": "3396c946",
   "metadata": {},
   "source": [
    "# ineuron_python_basic_programming_Assignment-5"
   ]
  },
  {
   "cell_type": "code",
   "execution_count": 1,
   "id": "65f8d3ba",
   "metadata": {},
   "outputs": [
    {
     "name": "stdout",
     "output_type": "stream",
     "text": [
      "Enter first number:5\n",
      "Enter second number:5\n",
      "lcm of 5 and 5 is 5\n"
     ]
    }
   ],
   "source": [
    "# 1. Write a Python Program to Find LCM?\n",
    "\n",
    "\n",
    "x = int(input(\"Enter first number:\" ))\n",
    "y = int(input(\"Enter second number:\"))\n",
    "\n",
    "if x>y:\n",
    "    big = x\n",
    "else:\n",
    "    big = y\n",
    "    \n",
    "while(True):\n",
    "    if big % x == 0 and big % y == 0:\n",
    "        lcm = big\n",
    "        break\n",
    "    big = big +1\n",
    "print(\"lcm of {} and {} is {}\".format(x,y,lcm))"
   ]
  },
  {
   "cell_type": "code",
   "execution_count": 4,
   "id": "35a4d3cc",
   "metadata": {},
   "outputs": [
    {
     "name": "stdout",
     "output_type": "stream",
     "text": [
      "Enter a First number: 5\n",
      "Enter a Second number: 9\n",
      "hcf of 5 and 9 is 5\n"
     ]
    }
   ],
   "source": [
    "# 2. Write a Python Program to Find HCF?\n",
    "\n",
    "\n",
    "x = int(input(\"Enter a First number: \"))\n",
    "y = int(input(\"Enter a Second number: \"))\n",
    "\n",
    "if x<y:\n",
    "    small = x\n",
    "else:\n",
    "    small = y\n",
    "\n",
    "hcf = 0   \n",
    "for i in range(1,small+1):\n",
    "    if x % i == 0 and y % i == 0 :\n",
    "        hcf = i\n",
    "    \n",
    "print(\"hcf of {} and {} is {}\".format(x,y,lcm))"
   ]
  },
  {
   "cell_type": "code",
   "execution_count": 6,
   "id": "f96f70b4",
   "metadata": {},
   "outputs": [
    {
     "name": "stdout",
     "output_type": "stream",
     "text": [
      "Enter a number: 66\n",
      "66 in Binary 0b1000010\n",
      "66 in Octal 0o102\n",
      "66 in Hexadecimal 0x42\n"
     ]
    }
   ],
   "source": [
    "# 3. Write a Python Program to Convert Decimal to Binary, Octal and Hexadecimal?\n",
    "\n",
    "x = int(input(\"Enter a number: \"))\n",
    "\n",
    "print(x, \"in Binary\",bin(x))\n",
    "print(x, \"in Octal\", oct(x))\n",
    "print(x, \"in Hexadecimal\", hex(x))"
   ]
  },
  {
   "cell_type": "code",
   "execution_count": 15,
   "id": "df5893ea",
   "metadata": {},
   "outputs": [
    {
     "name": "stdout",
     "output_type": "stream",
     "text": [
      "Enter a Charecter:h\n",
      "Ascii value of h is 104\n"
     ]
    }
   ],
   "source": [
    "# 4. Write a Python Program To Find ASCII value of a character?\n",
    "\n",
    "\n",
    "# ASCII is American Standard Code for Information Interchange\n",
    "\n",
    "ASCII = input(\"Enter a Charecter:\")\n",
    "\n",
    "print(\"Ascii value of {} is {}\".format(ASCII,ord(ASCII)))\n"
   ]
  },
  {
   "cell_type": "code",
   "execution_count": 19,
   "id": "a7a57084",
   "metadata": {},
   "outputs": [
    {
     "name": "stdout",
     "output_type": "stream",
     "text": [
      "Enter first number: 8\n",
      "Enter a operator(+,-,%,/,*): *\n",
      "Enter second number: 9\n",
      "72\n"
     ]
    }
   ],
   "source": [
    "# 5. Write a Python Program to Make a Simple Calculator with 4 basic mathematical operations?\n",
    "\n",
    "\n",
    "first = int(input(\"Enter first number: \"))\n",
    "operator = input(\"Enter a operator(+,-,%,/,*): \")\n",
    "second = int(input(\"Enter second number: \"))\n",
    "\n",
    "if operator == \"+\":\n",
    "    print(first + second)\n",
    "elif operator == \"-\":\n",
    "    print(first - second)\n",
    "elif operator == \"*\":\n",
    "    print(first * second)\n",
    "elif operator == \"%\":\n",
    "    print(first % second)\n",
    "elif operator == \"/\":\n",
    "    print(first / second)\n",
    "else:\n",
    "    print(\"Enter a proper operator\")\n",
    "\n"
   ]
  },
  {
   "cell_type": "code",
   "execution_count": null,
   "id": "e761f8cc",
   "metadata": {},
   "outputs": [],
   "source": []
  }
 ],
 "metadata": {
  "kernelspec": {
   "display_name": "Python 3 (ipykernel)",
   "language": "python",
   "name": "python3"
  },
  "language_info": {
   "codemirror_mode": {
    "name": "ipython",
    "version": 3
   },
   "file_extension": ".py",
   "mimetype": "text/x-python",
   "name": "python",
   "nbconvert_exporter": "python",
   "pygments_lexer": "ipython3",
   "version": "3.9.12"
  }
 },
 "nbformat": 4,
 "nbformat_minor": 5
}
