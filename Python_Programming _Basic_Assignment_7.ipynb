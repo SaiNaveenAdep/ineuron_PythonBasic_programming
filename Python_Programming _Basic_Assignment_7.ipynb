{
 "cells": [
  {
   "cell_type": "markdown",
   "id": "de1e25e8",
   "metadata": {},
   "source": [
    "1. Write a Python Program to find sum of array?"
   ]
  },
  {
   "cell_type": "code",
   "execution_count": 1,
   "id": "d5c809f1",
   "metadata": {},
   "outputs": [
    {
     "name": "stdout",
     "output_type": "stream",
     "text": [
      "sum:  881\n"
     ]
    }
   ],
   "source": [
    "sum = 0\n",
    "array = [1,2,3,52,2,234,3,543,2,34,5]\n",
    "for i in range(0,len(array)):\n",
    "    sum+=array[i]\n",
    "print(\"sum: \",sum)"
   ]
  },
  {
   "cell_type": "markdown",
   "id": "a84a1f63",
   "metadata": {},
   "source": [
    "2. Write a Python Program to find largest element in an array?"
   ]
  },
  {
   "cell_type": "code",
   "execution_count": 37,
   "id": "bd18bd8d",
   "metadata": {},
   "outputs": [
    {
     "name": "stdout",
     "output_type": "stream",
     "text": [
      "634123123\n",
      "largest number in [1, 2, 3, 4, 5, 634123123, 45] is 634123123\n"
     ]
    }
   ],
   "source": [
    "c = 0\n",
    "array = [1,2,3,4,5,634123123,45]\n",
    "for i in range(0, len(array)):\n",
    "    if c > array[i]:\n",
    "        print(c)\n",
    "    else:\n",
    "        c = array[i]\n",
    "print(\"largest number in {} is {}\".format(array,c))"
   ]
  },
  {
   "cell_type": "markdown",
   "id": "a8cfc3b1",
   "metadata": {},
   "source": [
    "3. Write a Python Program for array rotation?\n"
   ]
  },
  {
   "cell_type": "code",
   "execution_count": 43,
   "id": "579ddbb7",
   "metadata": {},
   "outputs": [
    {
     "name": "stdout",
     "output_type": "stream",
     "text": [
      "3\n",
      "95\n",
      "2078\n",
      "3\n",
      "4\n",
      "5\n",
      "1\n",
      "9\n",
      "7\n",
      "45\n",
      "3\n",
      "2\n"
     ]
    }
   ],
   "source": [
    "arr = [1,2,3,45,7,9,1,5,4,3,2078,95,3]\n",
    "root = []\n",
    "l = len(arr)-1\n",
    "for i in range(l,0,-1):\n",
    "        print(arr[i])"
   ]
  },
  {
   "cell_type": "markdown",
   "id": "edc8148f",
   "metadata": {},
   "source": [
    "4. Write a Python Program to Split the array and add the first part to the end?"
   ]
  },
  {
   "cell_type": "code",
   "execution_count": 84,
   "id": "7d9b1d13",
   "metadata": {},
   "outputs": [
    {
     "name": "stdout",
     "output_type": "stream",
     "text": [
      "Enter  the lenght of the list:  10\n",
      "1\n",
      "2\n",
      "3\n",
      "4\n",
      "5\n",
      "6\n",
      "7\n",
      "8\n",
      "9\n",
      "11\n",
      "The list:  [1, 2, 3, 4, 5, 6, 7, 8, 9, 11]\n",
      "Enter the number of elements to split:  6\n",
      "The split list is:  [1, 2, 3, 4, 5, 6]\n",
      "The list after split and add :  [7, 8, 9, 11, 1, 2, 3, 4, 5, 6]\n"
     ]
    }
   ],
   "source": [
    "l = int(input(\"Enter  the lenght of the list:  \"))\n",
    "array = []\n",
    "for i in range(l):\n",
    "    array.append(int(input()))\n",
    "print(\"The list: \", array)\n",
    "\n",
    "split = int(input(\"Enter the number of elements to split:  \"))\n",
    "if split >l:\n",
    "    print(\"Can not split as elements to split is larger then list length\")\n",
    "else:\n",
    "    print(\"The split list is: \", array[:split])\n",
    "    program = array[split:l]+ array[:split]\n",
    "    print(\"The list after split and add : \", program)\n"
   ]
  },
  {
   "cell_type": "markdown",
   "id": "42f82c51",
   "metadata": {},
   "source": [
    "5. Write a Python Program to check if given array is Monotonic?"
   ]
  },
  {
   "cell_type": "code",
   "execution_count": 85,
   "id": "a90da08b",
   "metadata": {},
   "outputs": [
    {
     "name": "stdout",
     "output_type": "stream",
     "text": [
      "Enter the lenth of your list : 7\n",
      "1\n",
      "2\n",
      "3\n",
      "4\n",
      "5\n",
      "6\n",
      "7\n",
      "The List is  [1, 2, 3, 4, 5, 6, 7]\n",
      "Monotonic\n"
     ]
    }
   ],
   "source": [
    "l = int(input(\"Enter the lenth of your list : \"))\n",
    "arr = []\n",
    "\n",
    "for i in range(l):\n",
    "    arr.append(int(input()))\n",
    "print(\"The List is \",arr)\n",
    "\n",
    "if all((arr[i] <= arr[i+1] for i in range(l-1)) or (arr[i] >= lst[i+1] for i in range(l-1))):\n",
    "    print(\"Monotonic\")\n",
    "else:\n",
    "    print(\"Not Monotonic\")"
   ]
  },
  {
   "cell_type": "code",
   "execution_count": null,
   "id": "4fb71127",
   "metadata": {},
   "outputs": [],
   "source": []
  }
 ],
 "metadata": {
  "kernelspec": {
   "display_name": "Python 3 (ipykernel)",
   "language": "python",
   "name": "python3"
  },
  "language_info": {
   "codemirror_mode": {
    "name": "ipython",
    "version": 3
   },
   "file_extension": ".py",
   "mimetype": "text/x-python",
   "name": "python",
   "nbconvert_exporter": "python",
   "pygments_lexer": "ipython3",
   "version": "3.9.12"
  }
 },
 "nbformat": 4,
 "nbformat_minor": 5
}
